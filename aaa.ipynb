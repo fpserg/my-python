{
 "cells": [
  {
   "cell_type": "code",
   "execution_count": 2,
   "metadata": {
    "collapsed": true
   },
   "outputs": [
    {
     "name": "stdout",
     "output_type": "stream",
     "text": [
      "Ticker: Hhru\n",
      "Update price: 1440\n",
      "HHRU | R 1440.0 | MCap 72.9 R bn | VS ATH -70% | VS IPO 78% | EV/EBITDA 9.5 | P/E 14.3 | DY 4.0% | FF 62% | ADTV 25 R mn\n"
     ]
    }
   ],
   "source": [
    "import json\n",
    "import requests\n",
    "#import urllib.request\n",
    "\n",
    "with open (\"data.json\") as f:\n",
    "  data = json.load(f)\n",
    "\n",
    "ticker = input(\"Ticker: \").strip().upper()\n",
    "if ticker in data.keys():\n",
    "  price = float(input(\"Update price: \"))\n",
    "  \n",
    "  mcap_mn = price * data[ticker][\"shares_mn\"]\n",
    "  ev_mn = mcap_mn + data[ticker][\"net_debt_mn\"]\n",
    "\n",
    "  data[ticker][\"price\"] = price\n",
    "  data[ticker][\"mcap_mn\"] = mcap_mn\n",
    "  data[ticker][\"ev_mn\"] = ev_mn\n",
    "\n",
    "  ev_ebitda = ev_mn / data[ticker][\"ebitda_1_mn\"]\n",
    "  p_e = mcap_mn / data[ticker][\"np_1_mn\"]\n",
    "  dy = data[ticker][\"dps_1\"] / price * 100\n",
    "  vs_ath = (price / data[ticker][\"ath\"] -1) * 100\n",
    "  vs_ipo = (price / data[ticker][\"ipo\"] -1) * 100\n",
    "  ff = data[ticker][\"ff\"]\n",
    "\n",
    "#url = \"https://iss.moex.com/iss/history/engines/stock/markets/shares/securities/\" + ticker +\".json?from=2023-01-01\"\n",
    "\n",
    "response = json.loads(requests.get(\"https://iss.moex.com/iss/history/engines/stock/markets/shares/securities/\" + ticker +\".json?from=2023-01-01\").text)\n",
    "\n",
    "#urllib.request.urlopen(url).read()\n",
    "\n",
    "#json.loads(requests.get(\"https://iss.moex.com/iss/history/engines/stock/markets/shares/securities/\" + ticker +\".json?from=2023-01-01\").text)\n",
    "\n",
    "last_twenty = [round(day[5] / 1000000, 1) for day in response[\"history\"][\"data\"]][-20:]\n",
    "adtv = round(sum(last_twenty) / len(last_twenty))\n",
    "\n",
    "output = f\"{ticker} | R {price} | MCap {round((mcap_mn / 1000), 1)} R bn | VS ATH {round(vs_ath)}% | VS IPO {round(vs_ipo)}% | EV/EBITDA {ev_ebitda:.1f} | P/E {round(p_e, 1)} | DY {round(dy, 1)}% | FF {ff}% | ADTV {adtv} R mn\"\n",
    "\n",
    "print(output)\n",
    "\n",
    "with open (\"data.json\", \"w\") as f:\n",
    "  json.dump(data, f)\n",
    "\n",
    "with open (\"output.txt\", \"w\") as fp:\n",
    "  json.dump(output, fp)\n",
    "  #result = json.dumps(output)\n",
    "  #fp.write(result)\n",
    "  "
   ]
  },
  {
   "cell_type": "code",
   "execution_count": null,
   "metadata": {},
   "outputs": [],
   "source": []
  }
 ],
 "metadata": {
  "kernelspec": {
   "display_name": "Python 3 (ipykernel)",
   "language": "python",
   "name": "python3"
  },
  "language_info": {
   "codemirror_mode": {
    "name": "ipython",
    "version": 3
   },
   "file_extension": ".py",
   "mimetype": "text/x-python",
   "name": "python",
   "nbconvert_exporter": "python",
   "pygments_lexer": "ipython3",
   "version": "3.11.0"
  }
 },
 "nbformat": 4,
 "nbformat_minor": 2
}
